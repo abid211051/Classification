{
 "cells": [
  {
   "cell_type": "code",
   "execution_count": 1,
   "metadata": {},
   "outputs": [],
   "source": [
    "import pandas as pd\n",
    "import numpy as np"
   ]
  },
  {
   "cell_type": "markdown",
   "metadata": {},
   "source": [
    "CREATING FINAL DATASET FROM THE FILTERED COLUMNS DATASET"
   ]
  },
  {
   "cell_type": "code",
   "execution_count": 2,
   "metadata": {},
   "outputs": [],
   "source": [
    "filtered_file_path='filtered_dataset.csv.gz'"
   ]
  },
  {
   "cell_type": "code",
   "execution_count": 3,
   "metadata": {},
   "outputs": [],
   "source": [
    "chunk_size = 200000  # Adjust based on memory availability\n",
    "filtered_chunks = []\n",
    "\n",
    "for chunk in pd.read_csv(filtered_file_path, chunksize=chunk_size, on_bad_lines='skip', encoding='utf-8',compression=\"gzip\", low_memory=False):\n",
    "    filtered_chunks.append(chunk)\n",
    "\n",
    "# Concatenate all chunks into a single DataFrame\n",
    "filtered_df = pd.concat(filtered_chunks, ignore_index=True)\n",
    "del filtered_chunks"
   ]
  },
  {
   "cell_type": "code",
   "execution_count": 4,
   "metadata": {},
   "outputs": [
    {
     "name": "stdout",
     "output_type": "stream",
     "text": [
      "(3628367, 28)\n"
     ]
    }
   ],
   "source": [
    "print(filtered_df.shape)"
   ]
  },
  {
   "cell_type": "code",
   "execution_count": 5,
   "metadata": {},
   "outputs": [],
   "source": [
    "beverage_keywords = [\n",
    "    \"Beverages and beverages preparations\", \"Beverages\", \"sodas\", \"drinks\", \"juices\", \"teas\",\n",
    "    \"artificially sweetened beverages\", \"basil seeds drinks\", \"carbonated drinks\", \"coffee drinks\", \"dairy drinks\",\n",
    "    \"dehydrated beverages\", \"energy drinks\", \"fermented drinks\", \"flavoured drinks\", \"herbal tea beverages\",\n",
    "    \"hot beverages\", \"milsubstitutes\", \"mixed drinks\", \"non-alcoholic beverages\", \"still soft drinks\",\n",
    "    \"plant-based beverages\", \"sweetened beverages\", \"tea-based beverages\", \"unsweetened beverages\",\n",
    "    \"waters\", \"fr:Citronnades\", \"Boissons\"\n",
    "]\n",
    "\n",
    "# Common global drink-related terms for substring matching in main_category\n",
    "beverage_substrings = [\n",
    "    \"water\", \"drink\",\"drinks\" \"juice\", \"soda\", \"teas\", \"coffee\", \"nectar\", \"carbonated\", \"milkshake\", \n",
    "    \"smoothie\", \"lemonade\", \"coconut-waters\", \"non-alcoholic\", \"infusion\", \"isotonic\",\n",
    "    \"cold-brew\", \"plant-based-drinks\", \"kombucha\", \"protein-shake\",\"tonic\", \n",
    "    \"ginger-beers\", \"electrolyte-drinks\", \"beverages\", \"ciders\" \n",
    "]\n",
    "\n",
    "# Convert to lowercase for case-insensitive matching\n",
    "beverage_keywords_lower = {kw.lower() for kw in beverage_keywords}\n",
    "beverage_substrings_lower = {kw.lower() for kw in beverage_substrings}\n",
    "\n",
    "def check_categories(categories_str):\n",
    "    \"\"\"Check if any non-alcoholic beverage keyword exists in the 'categories' column.\"\"\"\n",
    "    if pd.isna(categories_str):\n",
    "        return False\n",
    "    category_list = [c.strip().lower() for c in categories_str.split(\",\")]\n",
    "    return any(cat in beverage_keywords_lower for cat in category_list)\n",
    "\n",
    "def check_main_category(main_category_str):\n",
    "    \"\"\"Check if 'main_category' contains any beverage-related substring.\"\"\"\n",
    "    if pd.isna(main_category_str):\n",
    "        return False\n",
    "    main_category = main_category_str.split(\":\", 1)[-1].strip().lower()\n",
    "    parts = main_category.replace(\"-\", \" \").split()\n",
    "    return any(any(sub in part for sub in beverage_substrings_lower) for part in parts)\n",
    "\n",
    "# Apply conditions to each column\n",
    "categories_condition = filtered_df['categories'].apply(check_categories)\n",
    "main_category_condition = filtered_df['main_category'].apply(check_main_category)\n",
    "\n",
    "# Combine conditions using logical OR\n",
    "mask = categories_condition | main_category_condition"
   ]
  },
  {
   "cell_type": "code",
   "execution_count": 6,
   "metadata": {},
   "outputs": [
    {
     "name": "stdout",
     "output_type": "stream",
     "text": [
      "(173379, 28)\n",
      "---Before filter---\n",
      "79635\n",
      "---After filter---\n",
      "79312\n"
     ]
    }
   ],
   "source": [
    "filtered_df2 = filtered_df[mask]\n",
    "print(filtered_df2.shape)\n",
    "print(\"---Before filter---\")\n",
    "print(filtered_df2['fruits-vegetables-nuts-estimate-from-ingredients_100g'].isnull().sum())\n",
    "filtered_df2.loc[\n",
    "    filtered_df2['fruits-vegetables-nuts-estimate-from-ingredients_100g'].isna() &  # If 3rd column is NaN\n",
    "    (filtered_df2[['fruits-vegetables-nuts_100g', 'fruits-vegetables-nuts-estimate_100g']].notna().sum(axis=1) >= 1),  # At least one of the other two has a value\n",
    "    'fruits-vegetables-nuts-estimate-from-ingredients_100g'\n",
    "] = filtered_df2[['fruits-vegetables-nuts_100g', 'fruits-vegetables-nuts-estimate_100g']].mean(axis=1)\n",
    "\n",
    "print(\"---After filter---\")\n",
    "# Check missing values after filling\n",
    "print(filtered_df2['fruits-vegetables-nuts-estimate-from-ingredients_100g'].isnull().sum())"
   ]
  },
  {
   "cell_type": "code",
   "execution_count": 7,
   "metadata": {},
   "outputs": [
    {
     "data": {
      "text/plain": [
       "(173379, 16)"
      ]
     },
     "execution_count": 7,
     "metadata": {},
     "output_type": "execute_result"
    }
   ],
   "source": [
    "filtered_df3 = filtered_df2.drop(columns=['countries','fat_100g','allergens','energy-kcal_100g','energy-kj_100g','trans-fat_100g','added-sugars_100g','sodium_100g','chloride_100g','fruits-vegetables-nuts_100g', 'fruits-vegetables-nuts-estimate_100g', 'nutrition-score-fr_100g',])\n",
    "filtered_df3.shape"
   ]
  },
  {
   "cell_type": "code",
   "execution_count": 8,
   "metadata": {},
   "outputs": [
    {
     "data": {
      "text/plain": [
       "(109114, 16)"
      ]
     },
     "execution_count": 8,
     "metadata": {},
     "output_type": "execute_result"
    }
   ],
   "source": [
    "# List of columns to check for non-null values\n",
    "columns_to_check = [\n",
    "    'energy_100g', 'saturated-fat_100g', 'sugars_100g', \n",
    "    'fiber_100g', 'proteins_100g', 'salt_100g', 'additives_tags',\n",
    "    'fruits-vegetables-nuts-estimate-from-ingredients_100g'\n",
    "]\n",
    "\n",
    "# Count the number of non-null values in the specified columns\n",
    "non_null_count = filtered_df3[columns_to_check].notnull().sum(axis=1)\n",
    "\n",
    "# Keep only rows where at least 4 of the columns have values\n",
    "filtered_df4 = filtered_df3[non_null_count >= 5]\n",
    "\n",
    "filtered_df4.loc[:, columns_to_check] = filtered_df4.loc[:, columns_to_check].fillna(0)\n",
    "\n",
    "# Verify the changes\n",
    "filtered_df4.shape"
   ]
  },
  {
   "cell_type": "code",
   "execution_count": 9,
   "metadata": {},
   "outputs": [
    {
     "data": {
      "text/plain": [
       "(106276, 16)"
      ]
     },
     "execution_count": 9,
     "metadata": {},
     "output_type": "execute_result"
    }
   ],
   "source": [
    "filtered_df5 = filtered_df4[~filtered_df4['nutriscore_grade'].isin(['not-applicable'])]\n",
    "filtered_df5.shape"
   ]
  },
  {
   "cell_type": "code",
   "execution_count": 10,
   "metadata": {},
   "outputs": [
    {
     "name": "stdout",
     "output_type": "stream",
     "text": [
      "['unknown' 'c' 'e' 'b' 'd' 'a']\n"
     ]
    }
   ],
   "source": [
    "print(filtered_df5['nutriscore_grade'].unique())"
   ]
  },
  {
   "cell_type": "code",
   "execution_count": 11,
   "metadata": {},
   "outputs": [
    {
     "data": {
      "text/plain": [
       "Index(['product_name', 'categories', 'main_category', 'quantity',\n",
       "       'ingredients_tags', 'additives_tags', 'energy_100g',\n",
       "       'saturated_fat_100g', 'sugars_100g', 'fiber_100g', 'proteins_100g',\n",
       "       'salt_100g', 'alcohol_100g', 'fruits_veg_nuts_100g', 'nutriscore_score',\n",
       "       'nutriscore_grade'],\n",
       "      dtype='object')"
      ]
     },
     "execution_count": 11,
     "metadata": {},
     "output_type": "execute_result"
    }
   ],
   "source": [
    "filtered_df5.columns = filtered_df5.columns.str.replace('-', '_')\n",
    "filtered_df5 = filtered_df5.rename(columns={\n",
    "    'fruits_vegetables_nuts_estimate_from_ingredients_100g': 'fruits_veg_nuts_100g'\n",
    "})\n",
    "filtered_df5.columns"
   ]
  },
  {
   "cell_type": "code",
   "execution_count": 12,
   "metadata": {},
   "outputs": [
    {
     "name": "stderr",
     "output_type": "stream",
     "text": [
      "C:\\Users\\apran\\AppData\\Local\\Temp\\ipykernel_21156\\1644439046.py:13: SettingWithCopyWarning: \n",
      "A value is trying to be set on a copy of a slice from a DataFrame.\n",
      "Try using .loc[row_indexer,col_indexer] = value instead\n",
      "\n",
      "See the caveats in the documentation: https://pandas.pydata.org/pandas-docs/stable/user_guide/indexing.html#returning-a-view-versus-a-copy\n",
      "  new_filtered_df[cols_to_check] = new_filtered_df[cols_to_check].apply(pd.to_numeric, errors='coerce')\n"
     ]
    },
    {
     "data": {
      "text/plain": [
       "(90468, 16)"
      ]
     },
     "execution_count": 12,
     "metadata": {},
     "output_type": "execute_result"
    }
   ],
   "source": [
    "import pandas as pd\n",
    "\n",
    "# Create a condition where all the relevant columns are 0\n",
    "condition = (filtered_df5[['energy_100g', 'saturated_fat_100g', 'sugars_100g', 'fiber_100g', \n",
    "                           'proteins_100g', 'salt_100g', 'fruits_veg_nuts_100g']].eq(0)).all(axis=1)\n",
    "\n",
    "# Filter out rows where all the relevant columns are 0, and nutriscore_grade is between 'c' and 'e'\n",
    "new_filtered_df = filtered_df5[~(condition & filtered_df5['nutriscore_grade'].isin(['c', 'd', 'e']))]\n",
    "\n",
    "# Convert columns to numeric, forcing errors to NaN (this will handle any invalid strings or power notation)\n",
    "cols_to_check = ['energy_100g', 'saturated_fat_100g', 'sugars_100g', 'fiber_100g', 'proteins_100g', 'salt_100g', 'fruits_veg_nuts_100g']\n",
    "\n",
    "new_filtered_df[cols_to_check] = new_filtered_df[cols_to_check].apply(pd.to_numeric, errors='coerce')\n",
    "\n",
    "# Define the conditions where any one column exceeds the threshold\n",
    "condition1 = (\n",
    "    (new_filtered_df['energy_100g'] > 500) | (new_filtered_df['energy_100g'] < 0) |\n",
    "    (new_filtered_df['saturated_fat_100g'] > 20) | (new_filtered_df['saturated_fat_100g'] < 0) |\n",
    "    (new_filtered_df['sugars_100g'] > 25) | (new_filtered_df['sugars_100g'] < 0) |\n",
    "    (new_filtered_df['proteins_100g'] > 10) | (new_filtered_df['proteins_100g'] < 0) |\n",
    "    (new_filtered_df['salt_100g'] > 15) | (new_filtered_df['salt_100g'] < 0) |\n",
    "    (new_filtered_df['fiber_100g'] > 10) | (new_filtered_df['fiber_100g'] < 0) |\n",
    "    (new_filtered_df['fruits_veg_nuts_100g'] > 100) | (new_filtered_df['fruits_veg_nuts_100g'] < 0)\n",
    ")\n",
    "\n",
    "# Remove rows where any condition is matched\n",
    "new_filtered_df1 = new_filtered_df[~condition1]\n",
    "\n",
    "# Display the filtered dataframe\n",
    "new_filtered_df1.shape"
   ]
  },
  {
   "cell_type": "code",
   "execution_count": 13,
   "metadata": {},
   "outputs": [
    {
     "data": {
      "text/plain": [
       "array(['unknown', 'd', 'c', 'e', 'b'], dtype=object)"
      ]
     },
     "execution_count": 13,
     "metadata": {},
     "output_type": "execute_result"
    }
   ],
   "source": [
    "grade_a_products = new_filtered_df1[new_filtered_df1['nutriscore_grade'] == 'a']\n",
    "other_products = new_filtered_df1[new_filtered_df1['nutriscore_grade'] != 'a']\n",
    "\n",
    "other_products['nutriscore_grade'].unique()"
   ]
  },
  {
   "cell_type": "code",
   "execution_count": 17,
   "metadata": {},
   "outputs": [
    {
     "name": "stderr",
     "output_type": "stream",
     "text": [
      "C:\\Users\\apran\\AppData\\Local\\Temp\\ipykernel_21156\\3313109372.py:122: SettingWithCopyWarning: \n",
      "A value is trying to be set on a copy of a slice from a DataFrame.\n",
      "Try using .loc[row_indexer,col_indexer] = value instead\n",
      "\n",
      "See the caveats in the documentation: https://pandas.pydata.org/pandas-docs/stable/user_guide/indexing.html#returning-a-view-versus-a-copy\n",
      "  other_products[col] = pd.to_numeric(other_products[col], errors='coerce')\n",
      "C:\\Users\\apran\\AppData\\Local\\Temp\\ipykernel_21156\\3313109372.py:125: SettingWithCopyWarning: \n",
      "A value is trying to be set on a copy of a slice from a DataFrame.\n",
      "Try using .loc[row_indexer,col_indexer] = value instead\n",
      "\n",
      "See the caveats in the documentation: https://pandas.pydata.org/pandas-docs/stable/user_guide/indexing.html#returning-a-view-versus-a-copy\n",
      "  other_products['nutriscore_score'] = other_products.apply(calculate_nutri_score, axis=1)\n",
      "C:\\Users\\apran\\AppData\\Local\\Temp\\ipykernel_21156\\3313109372.py:126: SettingWithCopyWarning: \n",
      "A value is trying to be set on a copy of a slice from a DataFrame.\n",
      "Try using .loc[row_indexer,col_indexer] = value instead\n",
      "\n",
      "See the caveats in the documentation: https://pandas.pydata.org/pandas-docs/stable/user_guide/indexing.html#returning-a-view-versus-a-copy\n",
      "  other_products['nutriscore_grade'] = other_products['nutriscore_score'].apply(score_to_grade)\n"
     ]
    },
    {
     "data": {
      "text/plain": [
       "array(['b', 'e', 'c', 'd'], dtype=object)"
      ]
     },
     "execution_count": 17,
     "metadata": {},
     "output_type": "execute_result"
    }
   ],
   "source": [
    "import pandas as pd\n",
    "import numpy as np\n",
    "\n",
    "# =============================================\n",
    "# Unfavorable Components (N Points Calculation)\n",
    "# =============================================\n",
    "\n",
    "def calculate_energy_points(energy):\n",
    "    thresholds = [30, 90, 150, 210, 240, 270, 300, 330, 360, 390]\n",
    "    for i, thresh in enumerate(thresholds):\n",
    "        if energy <= thresh:\n",
    "            return i\n",
    "    return 10  # >390\n",
    "\n",
    "def calculate_saturated_fat_points(sat_fat):\n",
    "    thresholds = [1, 2, 3, 4, 5, 6, 7, 8, 9, 10]\n",
    "    for i, thresh in enumerate(thresholds):\n",
    "        if sat_fat <= thresh:\n",
    "            return i\n",
    "    return 10  # >10\n",
    "\n",
    "def calculate_salt_points(salt):\n",
    "    thresholds = [0.2, 0.4, 0.6, 0.8, 1, 1.2, 1.4, 1.6, 1.8, 2, 2.2, 2.4, 2.6, 2.8, 3, 3.2, 3.4, 3.6, 3.8, 4]\n",
    "    for i, thresh in enumerate(thresholds):\n",
    "        if salt <= thresh:\n",
    "            return i\n",
    "    return 20  # >4\n",
    "\n",
    "def calculate_sugar_points(sugar):\n",
    "    thresholds = [0.5, 2, 3.5, 5, 6, 7, 8, 9, 10, 11]\n",
    "    for i, thresh in enumerate(thresholds):\n",
    "        if sugar <= thresh:\n",
    "            return i\n",
    "    return 10  # >11\n",
    "\n",
    "def calculate_sweetener_points(additives_tags):\n",
    "    sweeteners = {'e420', 'e421', 'e953', 'e956', 'e964', 'e965', 'e966', 'e967', 'e968'}\n",
    "    if pd.isna(additives_tags):\n",
    "        return 0\n",
    "    # Split comma-separated additives and extract E-numbers\n",
    "    additives = [additive.split(':')[-1].lower() for additive in str(additives_tags).split(',')]\n",
    "    return 4 if any(additive in sweeteners for additive in additives) else 0\n",
    "\n",
    "# ===========================================\n",
    "# Favorable Components (P Points Calculation)\n",
    "# ===========================================\n",
    "\n",
    "def calculate_protein_points(protein):\n",
    "    thresholds = [1.2, 1.5, 1.8, 2.1, 2.4, 2.7, 3.0]\n",
    "    for i, thresh in enumerate(thresholds):\n",
    "        if protein <= thresh:\n",
    "            return i\n",
    "    return 7  # >3.0\n",
    "\n",
    "def calculate_fiber_points(fiber):\n",
    "    thresholds = [3.0, 4.1, 5.2, 6.3, 7.4]\n",
    "    for i, thresh in enumerate(thresholds):\n",
    "        if fiber <= thresh:\n",
    "            return i\n",
    "    return 5  # >7.4\n",
    "\n",
    "def calculate_fvp_points(fvp_percent):\n",
    "    if fvp_percent <= 40:\n",
    "        return 0\n",
    "    elif fvp_percent <= 60:\n",
    "        return 2\n",
    "    elif fvp_percent <= 80:\n",
    "        return 4\n",
    "    else:\n",
    "        return 6\n",
    "\n",
    "# ========================\n",
    "# Main Calculation\n",
    "# ========================\n",
    "\n",
    "def calculate_nutri_score(row):\n",
    "    try:\n",
    "        # Calculate N Points (Unfavorable)\n",
    "        n_energy = calculate_energy_points(row['energy_100g'])\n",
    "        n_sat_fat = calculate_saturated_fat_points(row['saturated_fat_100g'])\n",
    "        n_salt = calculate_salt_points(row['salt_100g'])\n",
    "        n_sugar = calculate_sugar_points(row['sugars_100g'])\n",
    "        n_sweetener = calculate_sweetener_points(row.get('additives_tags', np.nan))\n",
    "        \n",
    "        total_n = n_energy + n_sat_fat + n_salt + n_sugar + n_sweetener\n",
    "        \n",
    "        # Calculate P Points (Favorable)\n",
    "        p_protein = calculate_protein_points(row['proteins_100g'])\n",
    "        p_fiber = calculate_fiber_points(row['fiber_100g'])\n",
    "        p_fvp = calculate_fvp_points(row['fruits_veg_nuts_100g'])\n",
    "        \n",
    "        total_p = p_protein + p_fiber + p_fvp\n",
    "        \n",
    "        # Final Nutri-Score\n",
    "        return total_n - total_p\n",
    "        \n",
    "    except (TypeError, KeyError):\n",
    "        return np.nan\n",
    "\n",
    "def score_to_grade(score):\n",
    "    if pd.isna(score):\n",
    "        return np.nan\n",
    "    if score <= 2:\n",
    "        return 'b'\n",
    "    elif score <= 6:\n",
    "        return 'c'\n",
    "    elif score <= 9:\n",
    "        return 'd'\n",
    "    else:\n",
    "        return 'e'\n",
    "\n",
    "\n",
    "# Step 1: Separate products with grade 'A' and others\n",
    "grade_a_products = new_filtered_df1[new_filtered_df1['nutriscore_grade'] == 'a']\n",
    "other_products = new_filtered_df1[new_filtered_df1['nutriscore_grade'] != 'a']\n",
    "\n",
    "# Step 2: Convert relevant columns to numeric for other products\n",
    "nutrition_cols = ['additives_tags', 'energy_100g',\n",
    "       'saturated_fat_100g', 'sugars_100g', 'fiber_100g', 'proteins_100g',\n",
    "       'salt_100g','fruits_veg_nuts_100g']\n",
    "for col in nutrition_cols:\n",
    "    other_products[col] = pd.to_numeric(other_products[col], errors='coerce')\n",
    "\n",
    "# Step 3: Apply the new calculation logic to other products\n",
    "other_products['nutriscore_score'] = other_products.apply(calculate_nutri_score, axis=1)\n",
    "other_products['nutriscore_grade'] = other_products['nutriscore_score'].apply(score_to_grade)\n",
    "\n",
    "# Step 4: Combine the 'A' grade products back with the recalculated products\n",
    "final_df = pd.concat([other_products], axis=0)\n",
    "\n",
    "final_df['nutriscore_grade'].unique()"
   ]
  },
  {
   "cell_type": "code",
   "execution_count": 18,
   "metadata": {},
   "outputs": [
    {
     "data": {
      "text/plain": [
       "(87588, 8)"
      ]
     },
     "execution_count": 18,
     "metadata": {},
     "output_type": "execute_result"
    }
   ],
   "source": [
    "filtered_file = \"final_dataset.csv\"\n",
    "\n",
    "num_features = [\n",
    "    'energy_100g', 'saturated_fat_100g', 'sugars_100g',\n",
    "    'fiber_100g', 'proteins_100g', 'salt_100g',\n",
    "    'fruits_veg_nuts_100g',\n",
    "]\n",
    "label = ['nutriscore_grade']\n",
    "\n",
    "# Split data\n",
    "newfinalData = final_df[num_features + label]\n",
    "newfinalData.to_csv(filtered_file, index=False,encoding='utf-8')\n",
    "newfinalData.shape"
   ]
  },
  {
   "cell_type": "code",
   "execution_count": 233,
   "metadata": {},
   "outputs": [
    {
     "data": {
      "text/html": [
       "<div>\n",
       "<style scoped>\n",
       "    .dataframe tbody tr th:only-of-type {\n",
       "        vertical-align: middle;\n",
       "    }\n",
       "\n",
       "    .dataframe tbody tr th {\n",
       "        vertical-align: top;\n",
       "    }\n",
       "\n",
       "    .dataframe thead th {\n",
       "        text-align: right;\n",
       "    }\n",
       "</style>\n",
       "<table border=\"1\" class=\"dataframe\">\n",
       "  <thead>\n",
       "    <tr style=\"text-align: right;\">\n",
       "      <th></th>\n",
       "      <th>energy_100g</th>\n",
       "      <th>saturated_fat_100g</th>\n",
       "      <th>sugars_100g</th>\n",
       "      <th>fiber_100g</th>\n",
       "      <th>proteins_100g</th>\n",
       "      <th>salt_100g</th>\n",
       "      <th>fruits_veg_nuts_100g</th>\n",
       "    </tr>\n",
       "  </thead>\n",
       "  <tbody>\n",
       "    <tr>\n",
       "      <th>count</th>\n",
       "      <td>91203.000000</td>\n",
       "      <td>91203.000000</td>\n",
       "      <td>91203.000000</td>\n",
       "      <td>91203.000000</td>\n",
       "      <td>91203.000000</td>\n",
       "      <td>91203.000000</td>\n",
       "      <td>91203.000000</td>\n",
       "    </tr>\n",
       "    <tr>\n",
       "      <th>mean</th>\n",
       "      <td>131.362209</td>\n",
       "      <td>0.152819</td>\n",
       "      <td>5.763161</td>\n",
       "      <td>0.141003</td>\n",
       "      <td>0.554967</td>\n",
       "      <td>0.098203</td>\n",
       "      <td>14.353786</td>\n",
       "    </tr>\n",
       "    <tr>\n",
       "      <th>std</th>\n",
       "      <td>100.620656</td>\n",
       "      <td>0.585540</td>\n",
       "      <td>4.822336</td>\n",
       "      <td>0.481483</td>\n",
       "      <td>1.195732</td>\n",
       "      <td>0.649753</td>\n",
       "      <td>29.313120</td>\n",
       "    </tr>\n",
       "    <tr>\n",
       "      <th>min</th>\n",
       "      <td>0.000000</td>\n",
       "      <td>0.000000</td>\n",
       "      <td>0.000000</td>\n",
       "      <td>0.000000</td>\n",
       "      <td>0.000000</td>\n",
       "      <td>0.000000</td>\n",
       "      <td>0.000000</td>\n",
       "    </tr>\n",
       "    <tr>\n",
       "      <th>25%</th>\n",
       "      <td>21.000000</td>\n",
       "      <td>0.000000</td>\n",
       "      <td>0.200000</td>\n",
       "      <td>0.000000</td>\n",
       "      <td>0.000000</td>\n",
       "      <td>0.000000</td>\n",
       "      <td>0.000000</td>\n",
       "    </tr>\n",
       "    <tr>\n",
       "      <th>50%</th>\n",
       "      <td>140.000000</td>\n",
       "      <td>0.000000</td>\n",
       "      <td>5.420000</td>\n",
       "      <td>0.000000</td>\n",
       "      <td>0.000000</td>\n",
       "      <td>0.010000</td>\n",
       "      <td>0.000000</td>\n",
       "    </tr>\n",
       "    <tr>\n",
       "      <th>75%</th>\n",
       "      <td>201.000000</td>\n",
       "      <td>0.100000</td>\n",
       "      <td>10.000000</td>\n",
       "      <td>0.000000</td>\n",
       "      <td>0.500000</td>\n",
       "      <td>0.052500</td>\n",
       "      <td>11.000000</td>\n",
       "    </tr>\n",
       "    <tr>\n",
       "      <th>max</th>\n",
       "      <td>499.000000</td>\n",
       "      <td>20.000000</td>\n",
       "      <td>25.000000</td>\n",
       "      <td>10.000000</td>\n",
       "      <td>10.000000</td>\n",
       "      <td>15.000000</td>\n",
       "      <td>100.000000</td>\n",
       "    </tr>\n",
       "  </tbody>\n",
       "</table>\n",
       "</div>"
      ],
      "text/plain": [
       "        energy_100g  saturated_fat_100g   sugars_100g    fiber_100g  \\\n",
       "count  91203.000000        91203.000000  91203.000000  91203.000000   \n",
       "mean     131.362209            0.152819      5.763161      0.141003   \n",
       "std      100.620656            0.585540      4.822336      0.481483   \n",
       "min        0.000000            0.000000      0.000000      0.000000   \n",
       "25%       21.000000            0.000000      0.200000      0.000000   \n",
       "50%      140.000000            0.000000      5.420000      0.000000   \n",
       "75%      201.000000            0.100000     10.000000      0.000000   \n",
       "max      499.000000           20.000000     25.000000     10.000000   \n",
       "\n",
       "       proteins_100g     salt_100g  fruits_veg_nuts_100g  \n",
       "count   91203.000000  91203.000000          91203.000000  \n",
       "mean        0.554967      0.098203             14.353786  \n",
       "std         1.195732      0.649753             29.313120  \n",
       "min         0.000000      0.000000              0.000000  \n",
       "25%         0.000000      0.000000              0.000000  \n",
       "50%         0.000000      0.010000              0.000000  \n",
       "75%         0.500000      0.052500             11.000000  \n",
       "max        10.000000     15.000000            100.000000  "
      ]
     },
     "execution_count": 233,
     "metadata": {},
     "output_type": "execute_result"
    }
   ],
   "source": [
    "newfinalData.describe()"
   ]
  },
  {
   "cell_type": "code",
   "execution_count": null,
   "metadata": {},
   "outputs": [
    {
     "name": "stderr",
     "output_type": "stream",
     "text": [
      "C:\\Users\\apran\\AppData\\Local\\Temp\\ipykernel_9380\\410018323.py:13: SettingWithCopyWarning: \n",
      "A value is trying to be set on a copy of a slice from a DataFrame.\n",
      "Try using .loc[row_indexer,col_indexer] = value instead\n",
      "\n",
      "See the caveats in the documentation: https://pandas.pydata.org/pandas-docs/stable/user_guide/indexing.html#returning-a-view-versus-a-copy\n",
      "  new_filtered_df[cols_to_check] = new_filtered_df[cols_to_check].apply(pd.to_numeric, errors='coerce')\n"
     ]
    },
    {
     "data": {
      "text/html": [
       "<div>\n",
       "<style scoped>\n",
       "    .dataframe tbody tr th:only-of-type {\n",
       "        vertical-align: middle;\n",
       "    }\n",
       "\n",
       "    .dataframe tbody tr th {\n",
       "        vertical-align: top;\n",
       "    }\n",
       "\n",
       "    .dataframe thead th {\n",
       "        text-align: right;\n",
       "    }\n",
       "</style>\n",
       "<table border=\"1\" class=\"dataframe\">\n",
       "  <thead>\n",
       "    <tr style=\"text-align: right;\">\n",
       "      <th></th>\n",
       "      <th>product_name</th>\n",
       "      <th>main_category</th>\n",
       "      <th>quantity</th>\n",
       "      <th>ingredients_tags</th>\n",
       "      <th>additives_tags</th>\n",
       "      <th>energy_100g</th>\n",
       "      <th>saturated_fat_100g</th>\n",
       "      <th>sugars_100g</th>\n",
       "      <th>fiber_100g</th>\n",
       "      <th>proteins_100g</th>\n",
       "      <th>salt_100g</th>\n",
       "      <th>fruits_veg_nuts_100g</th>\n",
       "      <th>nutriscore_score</th>\n",
       "      <th>nutriscore_grade</th>\n",
       "    </tr>\n",
       "  </thead>\n",
       "  <tbody>\n",
       "    <tr>\n",
       "      <th>335159</th>\n",
       "      <td>Soft drink</td>\n",
       "      <td>en:sodas</td>\n",
       "      <td>unknown</td>\n",
       "      <td>en:contains,en:high-fructose-corn-syrup,en:add...</td>\n",
       "      <td>en:e129,en:e150c,en:e211,en:e330,en:e338</td>\n",
       "      <td>176.0</td>\n",
       "      <td>NaN</td>\n",
       "      <td>11.67</td>\n",
       "      <td>NaN</td>\n",
       "      <td>0.0</td>\n",
       "      <td>0.0175</td>\n",
       "      <td>0.0</td>\n",
       "      <td>13.0</td>\n",
       "      <td>e</td>\n",
       "    </tr>\n",
       "    <tr>\n",
       "      <th>3441104</th>\n",
       "      <td>Better Water Energy : Ginseng Cranberry Pomegr...</td>\n",
       "      <td>en:beverages-with-cranberry</td>\n",
       "      <td>75cl</td>\n",
       "      <td>unknown</td>\n",
       "      <td>NaN</td>\n",
       "      <td>17.0</td>\n",
       "      <td>0.0</td>\n",
       "      <td>0.80</td>\n",
       "      <td>NaN</td>\n",
       "      <td>0.0</td>\n",
       "      <td>0.0000</td>\n",
       "      <td>NaN</td>\n",
       "      <td>1.0</td>\n",
       "      <td>b</td>\n",
       "    </tr>\n",
       "  </tbody>\n",
       "</table>\n",
       "</div>"
      ],
      "text/plain": [
       "                                              product_name  \\\n",
       "335159                                          Soft drink   \n",
       "3441104  Better Water Energy : Ginseng Cranberry Pomegr...   \n",
       "\n",
       "                       main_category quantity  \\\n",
       "335159                      en:sodas  unknown   \n",
       "3441104  en:beverages-with-cranberry     75cl   \n",
       "\n",
       "                                          ingredients_tags  \\\n",
       "335159   en:contains,en:high-fructose-corn-syrup,en:add...   \n",
       "3441104                                            unknown   \n",
       "\n",
       "                                   additives_tags  energy_100g  \\\n",
       "335159   en:e129,en:e150c,en:e211,en:e330,en:e338        176.0   \n",
       "3441104                                       NaN         17.0   \n",
       "\n",
       "         saturated_fat_100g  sugars_100g  fiber_100g  proteins_100g  \\\n",
       "335159                  NaN        11.67         NaN            0.0   \n",
       "3441104                 0.0         0.80         NaN            0.0   \n",
       "\n",
       "         salt_100g  fruits_veg_nuts_100g nutriscore_score nutriscore_grade  \n",
       "335159      0.0175                   0.0             13.0                e  \n",
       "3441104     0.0000                   NaN              1.0                b  "
      ]
     },
     "execution_count": 53,
     "metadata": {},
     "output_type": "execute_result"
    }
   ],
   "source": [
    "import pandas as pd\n",
    "\n",
    "# Create a condition where all the relevant columns are 0\n",
    "condition = (filtered_df4[['energy_100g', 'saturated_fat_100g', 'sugars_100g', 'fiber_100g', \n",
    "                           'proteins_100g', 'salt_100g', 'fruits_veg_nuts_100g']].eq(0)).all(axis=1)\n",
    "\n",
    "# Filter out rows where all the relevant columns are 0, and nutriscore_grade is between 'b' and 'e'\n",
    "new_filtered_df = filtered_df4[~(condition & filtered_df4['nutriscore_grade'].isin(['b', 'c', 'd', 'e']))]\n",
    "\n",
    "# Convert columns to numeric, forcing errors to NaN (this will handle any invalid strings or power notation)\n",
    "cols_to_check = ['energy_100g', 'saturated_fat_100g', 'sugars_100g', 'fiber_100g', 'proteins_100g', 'salt_100g', 'fruits_veg_nuts_100g']\n",
    "\n",
    "new_filtered_df[cols_to_check] = new_filtered_df[cols_to_check].apply(pd.to_numeric, errors='coerce')\n",
    "\n",
    "# Define the conditions where any one column exceeds the threshold\n",
    "condition1 = (\n",
    "    (new_filtered_df['energy_100g'] > 500) | (new_filtered_df['energy_100g'] < 0) |\n",
    "    (new_filtered_df['saturated_fat_100g'] > 20) | (new_filtered_df['saturated_fat_100g'] < 0) |\n",
    "    (new_filtered_df['sugars_100g'] > 25) | (new_filtered_df['sugars_100g'] < 0) |\n",
    "    (new_filtered_df['proteins_100g'] > 10) | (new_filtered_df['proteins_100g'] < 0) |\n",
    "    (new_filtered_df['salt_100g'] > 15) | (new_filtered_df['salt_100g'] < 0) |\n",
    "    (new_filtered_df['fiber_100g'] > 10) | (new_filtered_df['fiber_100g'] < 0) |\n",
    "    (new_filtered_df['fruits_veg_nuts_100g'] > 100) | (new_filtered_df['fruits_veg_nuts_100g'] < 0)\n",
    ")\n",
    "\n",
    "# Remove rows where any condition is matched\n",
    "new_filtered_df1 = new_filtered_df[~condition1]\n",
    "\n",
    "# Display the filtered dataframe\n",
    "new_filtered_df1.sample(2)"
   ]
  },
  {
   "cell_type": "markdown",
   "metadata": {},
   "source": [
    "MAKING DATA FOR NLP PROCESSING"
   ]
  },
  {
   "cell_type": "code",
   "execution_count": null,
   "metadata": {},
   "outputs": [],
   "source": [
    "import pandas as pd\n",
    "\n",
    "# Load the dataset\n",
    "file_path = \"final_dataset.csv\"\n",
    "df = pd.read_csv(file_path)\n",
    "\n",
    "# Define the columns to include in the text column\n",
    "columns_to_include = [\n",
    "    \"energy_100g\", \"saturated_fat_100g\", \"sugars_100g\", \"fiber_100g\",\n",
    "    \"proteins_100g\", \"salt_100g\", \"fruits_veg_nuts_100g\", \n",
    "]\n",
    "\n",
    "# Populate the 'text' column without extra decimal points\n",
    "df[\"text\"] = df[columns_to_include].apply(lambda row: ','.join(f\"{col}:{int(row[col]) if row[col] % 1 == 0 else row[col]}\" for col in columns_to_include), axis=1)\n",
    "\n",
    "# Save the modified dataset\n",
    "df = df.drop(columns=[\"energy_100g\", \"saturated_fat_100g\", \"sugars_100g\", \"fiber_100g\", \n",
    "                      \"proteins_100g\", \"salt_100g\", \"fruits_veg_nuts_100g\", \"sweetener_present\"])\n",
    "output_file = \"final_dataset_updated.csv\"\n",
    "df.to_csv(output_file,index=False)"
   ]
  }
 ],
 "metadata": {
  "kernelspec": {
   "display_name": "Python 3",
   "language": "python",
   "name": "python3"
  },
  "language_info": {
   "codemirror_mode": {
    "name": "ipython",
    "version": 3
   },
   "file_extension": ".py",
   "mimetype": "text/x-python",
   "name": "python",
   "nbconvert_exporter": "python",
   "pygments_lexer": "ipython3",
   "version": "3.12.9"
  }
 },
 "nbformat": 4,
 "nbformat_minor": 2
}
