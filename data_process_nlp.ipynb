{
 "cells": [
  {
   "cell_type": "code",
   "execution_count": 5,
   "metadata": {},
   "outputs": [],
   "source": [
    "import pandas as pd\n",
    "import re"
   ]
  },
  {
   "cell_type": "markdown",
   "metadata": {},
   "source": [
    "Loading dataset"
   ]
  },
  {
   "cell_type": "code",
   "execution_count": 6,
   "metadata": {},
   "outputs": [],
   "source": [
    "file_path = 'nlp_dataset.csv.gz'"
   ]
  },
  {
   "cell_type": "code",
   "execution_count": 7,
   "metadata": {},
   "outputs": [],
   "source": [
    "chunk_size = 200000  # Adjust based on memory availability\n",
    "filtered_chunks = []\n",
    "\n",
    "for chunk in pd.read_csv(file_path, chunksize=chunk_size, on_bad_lines='skip', encoding='utf-8',compression=\"gzip\", low_memory=False):\n",
    "    filtered_chunks.append(chunk)\n",
    "\n",
    "# Concatenate all chunks into a single DataFrame\n",
    "filtered_df = pd.concat(filtered_chunks, ignore_index=True)\n",
    "del filtered_chunks"
   ]
  },
  {
   "cell_type": "code",
   "execution_count": 52,
   "metadata": {},
   "outputs": [
    {
     "data": {
      "text/plain": [
       "(168796, 6)"
      ]
     },
     "execution_count": 52,
     "metadata": {},
     "output_type": "execute_result"
    }
   ],
   "source": [
    "beverage_keywords = [\n",
    "    \"Beverages and beverages preparations\", \"sodas\", \"drinks\", \"juices\", \"teas\",\n",
    "    \"artificially sweetened beverages\", \"basil seeds drinks\", \"carbonated drinks\", \"coffee drinks\", \"dairy drinks\",\n",
    "    \"dehydrated beverages\", \"energy drinks\", \"fermented drinks\", \"flavoured drinks\", \"herbal tea beverages\",\n",
    "    \"hot beverages\", \"milsubstitutes\", \"mixed drinks\", \"non-alcoholic beverages\", \"still soft drinks\",\n",
    "    \"plant-based beverages\", \"sweetened beverages\", \"tea-based beverages\", \"unsweetened beverages\",\n",
    "    \"waters\", \"fr:Citronnades\", \"Boissons\"\n",
    "]\n",
    "\n",
    "# Common global drink-related terms for substring matching in main_category\n",
    "beverage_substrings = [\n",
    "    \"water\", \"drink\",\"drinks\" \"juice\", \"soda\", \"teas\", \"coffee\", \"nectar\", \"carbonated\", \"milkshake\", \n",
    "    \"smoothie\", \"lemonade\", \"coconut-waters\", \"non-alcoholic\", \"infusion\", \"isotonic\",\n",
    "    \"cold-brew\", \"plant-based-drinks\", \"kombucha\", \"protein-shake\",\"tonic\", \n",
    "    \"ginger-beers\", \"electrolyte-drinks\", \"beverages\", \"ciders\" \n",
    "]\n",
    "\n",
    "# Convert to lowercase for case-insensitive matching\n",
    "beverage_keywords_lower = {kw.lower() for kw in beverage_keywords}\n",
    "beverage_substrings_lower = {kw.lower() for kw in beverage_substrings}\n",
    "\n",
    "def check_categories(categories_str):\n",
    "    \"\"\"Check if any non-alcoholic beverage keyword exists in the 'categories' column.\"\"\"\n",
    "    if pd.isna(categories_str):\n",
    "        return False\n",
    "    category_list = [c.strip().lower() for c in categories_str.split(\",\")]\n",
    "    return any(cat in beverage_keywords_lower for cat in category_list)\n",
    "\n",
    "def check_main_category(main_category_str):\n",
    "    \"\"\"Check if 'main_category' contains any beverage-related substring.\"\"\"\n",
    "    if pd.isna(main_category_str):\n",
    "        return False\n",
    "    main_category = main_category_str.split(\":\", 1)[-1].strip().lower()\n",
    "    parts = main_category.replace(\"-\", \" \").split()\n",
    "    return any(any(sub in part for sub in beverage_substrings_lower) for part in parts)\n",
    "\n",
    "# Apply conditions to each column\n",
    "categories_condition = filtered_df['categories'].apply(check_categories)\n",
    "main_category_condition = filtered_df['main_category'].apply(check_main_category)\n",
    "\n",
    "# Combine conditions using logical OR\n",
    "mask = categories_condition | main_category_condition\n",
    "filtered_df2 = filtered_df[mask]\n",
    "filtered_df2.shape"
   ]
  },
  {
   "cell_type": "code",
   "execution_count": 76,
   "metadata": {},
   "outputs": [
    {
     "data": {
      "text/plain": [
       "(68424, 2)"
      ]
     },
     "execution_count": 76,
     "metadata": {},
     "output_type": "execute_result"
    }
   ],
   "source": [
    "new_df = filtered_df2.dropna(subset=['ingredients_tags', 'nutriscore_grade'])\n",
    "new_df = new_df[['ingredients_tags', 'nutriscore_grade']]\n",
    "new_df2 = new_df[~new_df['nutriscore_grade'].isin(['unknown', 'not-applicable'])]\n",
    "new_df2.shape"
   ]
  },
  {
   "cell_type": "code",
   "execution_count": 87,
   "metadata": {},
   "outputs": [
    {
     "name": "stderr",
     "output_type": "stream",
     "text": [
      "C:\\Users\\apran\\AppData\\Local\\Temp\\ipykernel_12616\\1663636049.py:17: SettingWithCopyWarning: \n",
      "A value is trying to be set on a copy of a slice from a DataFrame.\n",
      "Try using .loc[row_indexer,col_indexer] = value instead\n",
      "\n",
      "See the caveats in the documentation: https://pandas.pydata.org/pandas-docs/stable/user_guide/indexing.html#returning-a-view-versus-a-copy\n",
      "  new_df2['cleaned_ingredients'] = new_df2['ingredients_tags'].apply(clean_ingredients)\n"
     ]
    }
   ],
   "source": [
    "import re\n",
    "\n",
    "def clean_ingredients(text):\n",
    "    # Keep only ingredients that start with 'en:'\n",
    "    ingredients = [word for word in text.split(',') if word.strip().startswith('en:')]\n",
    "    \n",
    "    # Remove 'en:' prefix\n",
    "    ingredients = [re.sub(r'^en:', '', ing) for ing in ingredients]\n",
    "    \n",
    "    # Remove numbers, special characters, and extra spaces\n",
    "    clean_text = ' '.join(ingredients)\n",
    "    clean_text = re.sub(r'[^a-zA-Z\\s]', ' ', clean_text).strip().lower()  # Keep only letters\n",
    "    # clean_text = re.sub(r'\\s+', ' ', clean_text).strip().lower()\n",
    "    \n",
    "    return clean_text\n",
    "\n",
    "new_df2['cleaned_ingredients'] = new_df2['ingredients_tags'].apply(clean_ingredients)\n"
   ]
  },
  {
   "cell_type": "code",
   "execution_count": 91,
   "metadata": {},
   "outputs": [
    {
     "data": {
      "text/html": [
       "<div>\n",
       "<style scoped>\n",
       "    .dataframe tbody tr th:only-of-type {\n",
       "        vertical-align: middle;\n",
       "    }\n",
       "\n",
       "    .dataframe tbody tr th {\n",
       "        vertical-align: top;\n",
       "    }\n",
       "\n",
       "    .dataframe thead th {\n",
       "        text-align: right;\n",
       "    }\n",
       "</style>\n",
       "<table border=\"1\" class=\"dataframe\">\n",
       "  <thead>\n",
       "    <tr style=\"text-align: right;\">\n",
       "      <th></th>\n",
       "      <th>ingredients_tags</th>\n",
       "      <th>nutriscore_grade</th>\n",
       "      <th>cleaned_ingredients</th>\n",
       "    </tr>\n",
       "  </thead>\n",
       "  <tbody>\n",
       "    <tr>\n",
       "      <th>922622</th>\n",
       "      <td>en:water,en:e501ii,en:e501,en:e170i,en:e170,en...</td>\n",
       "      <td>b</td>\n",
       "      <td>water e   ii e    e   i e    e    e</td>\n",
       "    </tr>\n",
       "    <tr>\n",
       "      <th>1572739</th>\n",
       "      <td>en:water,en:grape-juice,en:fruit,en:berries,en...</td>\n",
       "      <td>e</td>\n",
       "      <td>water grape juice fruit berries juice fruit ju...</td>\n",
       "    </tr>\n",
       "  </tbody>\n",
       "</table>\n",
       "</div>"
      ],
      "text/plain": [
       "                                          ingredients_tags nutriscore_grade  \\\n",
       "922622   en:water,en:e501ii,en:e501,en:e170i,en:e170,en...                b   \n",
       "1572739  en:water,en:grape-juice,en:fruit,en:berries,en...                e   \n",
       "\n",
       "                                       cleaned_ingredients  \n",
       "922622                 water e   ii e    e   i e    e    e  \n",
       "1572739  water grape juice fruit berries juice fruit ju...  "
      ]
     },
     "execution_count": 91,
     "metadata": {},
     "output_type": "execute_result"
    }
   ],
   "source": [
    "new_df2.sample(2)"
   ]
  },
  {
   "cell_type": "code",
   "execution_count": 80,
   "metadata": {},
   "outputs": [
    {
     "name": "stdout",
     "output_type": "stream",
     "text": [
      "(68424, 8000)\n"
     ]
    }
   ],
   "source": [
    "\n",
    "from sklearn.feature_extraction.text import TfidfVectorizer\n",
    "\n",
    "# Initialize TF-IDF Vectorizer\n",
    "tfidf = TfidfVectorizer(max_features=8000, stop_words='english')\n",
    "\n",
    "# Apply TF-IDF on the cleaned ingredients text\n",
    "X = tfidf.fit_transform(new_df2['cleaned_ingredients'])\n",
    "\n",
    "# Check the shape of the resulting matrix (features)\n",
    "print(X.shape)\n"
   ]
  },
  {
   "cell_type": "code",
   "execution_count": 81,
   "metadata": {},
   "outputs": [],
   "source": [
    "from sklearn.preprocessing import LabelEncoder\n",
    "label_encoder = LabelEncoder()\n",
    "y = label_encoder.fit_transform(new_df2[\"nutriscore_grade\"])"
   ]
  },
  {
   "cell_type": "code",
   "execution_count": 82,
   "metadata": {},
   "outputs": [
    {
     "name": "stdout",
     "output_type": "stream",
     "text": [
      "Classification Report:\n",
      "               precision    recall  f1-score   support\n",
      "\n",
      "           a       0.79      0.66      0.72       598\n",
      "           b       0.85      0.77      0.80      3120\n",
      "           c       0.72      0.73      0.73      3628\n",
      "           d       0.61      0.42      0.50      2046\n",
      "           e       0.69      0.85      0.76      4293\n",
      "\n",
      "    accuracy                           0.73     13685\n",
      "   macro avg       0.73      0.69      0.70     13685\n",
      "weighted avg       0.73      0.73      0.72     13685\n",
      "\n",
      "Accuracy:  0.7272195834855681\n"
     ]
    }
   ],
   "source": [
    "from sklearn.model_selection import train_test_split\n",
    "from sklearn.ensemble import RandomForestClassifier\n",
    "from sklearn.metrics import classification_report, accuracy_score\n",
    "\n",
    "# Split data into training and test sets (80% train, 20% test)\n",
    "X_train, X_test, y_train, y_test = train_test_split(X, y, test_size=0.2, random_state=42)\n",
    "\n",
    "# Initialize the classifier\n",
    "clf = RandomForestClassifier(n_estimators=200, random_state=42)\n",
    "\n",
    "# Train the model\n",
    "clf.fit(X_train, y_train)\n",
    "\n",
    "# Make predictions on the test set\n",
    "y_pred = clf.predict(X_test)\n",
    "\n",
    "# Evaluate the model\n",
    "print(\"Classification Report:\\n\", classification_report(y_test, y_pred, target_names=label_encoder.classes_))\n",
    "print(\"Accuracy: \", accuracy_score(y_test, y_pred))\n"
   ]
  },
  {
   "cell_type": "code",
   "execution_count": 92,
   "metadata": {},
   "outputs": [
    {
     "data": {
      "text/plain": [
       "'en:water,en:e501ii,en:e501,en:e170i,en:e170,en:e509,en:e511'"
      ]
     },
     "execution_count": 92,
     "metadata": {},
     "output_type": "execute_result"
    }
   ],
   "source": [
    "# [1659593]\n",
    "new_df2['ingredients_tags'][922622]"
   ]
  },
  {
   "cell_type": "code",
   "execution_count": 36,
   "metadata": {},
   "outputs": [
    {
     "name": "stderr",
     "output_type": "stream",
     "text": [
      "C:\\Users\\apran\\AppData\\Local\\Temp\\ipykernel_12616\\1903635352.py:28: SettingWithCopyWarning: \n",
      "A value is trying to be set on a copy of a slice from a DataFrame.\n",
      "Try using .loc[row_indexer,col_indexer] = value instead\n",
      "\n",
      "See the caveats in the documentation: https://pandas.pydata.org/pandas-docs/stable/user_guide/indexing.html#returning-a-view-versus-a-copy\n",
      "  new_df2['processed_ingre'] = new_df2['ingredients_tags'].apply(clean_text)\n"
     ]
    }
   ],
   "source": [
    "import re\n",
    "\n",
    "def clean_text(text):\n",
    "    # 1️⃣ Ensure there is a space after removing language prefixes (en:, fr:, ro:)\n",
    "    text = re.sub(r'\\b[a-z]{2,3}:\\s*', ' ', text)  \n",
    "\n",
    "    # 2️⃣ Remove E-numbers (e300, e322i, etc.)\n",
    "    text = re.sub(r'\\b[eE]\\d{3,}[a-zA-Z]*\\b', ' ', text)  \n",
    "\n",
    "    # 3️⃣ Remove emojis\n",
    "    text = re.sub(r'[^\\w\\s,]', '', text)  \n",
    "\n",
    "    # 4️⃣ Remove numbers (like 9.2, 3.4, etc.)\n",
    "    text = re.sub(r'\\b\\d+(\\.\\d+)?\\b', ' ', text)  \n",
    "\n",
    "    # 5️⃣ Replace dashes and underscores with spaces\n",
    "    text = re.sub(r'[-_,]+', ' ', text)  \n",
    "\n",
    "    # 6️⃣ Remove extra spaces (so words don’t stick together)\n",
    "    text = re.sub(r'\\s+', ' ', text).strip()  \n",
    "\n",
    "    # 7️⃣ Convert to lowercase\n",
    "    text = text.lower()  \n",
    "    \n",
    "    return text\n",
    "\n",
    "# Apply to DataFrame\n",
    "new_df2['processed_ingre'] = new_df2['ingredients_tags'].apply(clean_text)\n"
   ]
  },
  {
   "cell_type": "code",
   "execution_count": 37,
   "metadata": {},
   "outputs": [
    {
     "data": {
      "text/plain": [
       "'boissonrafraichissanteauxjusdagrumes ingredients jusdepamplemousse92sucedecannejusdemandarine34jusdecitron31jusdecitronvert28antioxydantacideascorbiquepreparions apresouvertureconservationlaaurefrigerateuretconsommezladansles3jourpourunedegustationoptimaleaconsommerdepreferenceavantlenelotsurlehautdebouteille water servizfrais conservation'"
      ]
     },
     "execution_count": 37,
     "metadata": {},
     "output_type": "execute_result"
    }
   ],
   "source": [
    "new_df2['processed_ingre'][1659593]"
   ]
  }
 ],
 "metadata": {
  "kernelspec": {
   "display_name": "Python 3",
   "language": "python",
   "name": "python3"
  },
  "language_info": {
   "codemirror_mode": {
    "name": "ipython",
    "version": 3
   },
   "file_extension": ".py",
   "mimetype": "text/x-python",
   "name": "python",
   "nbconvert_exporter": "python",
   "pygments_lexer": "ipython3",
   "version": "3.12.9"
  }
 },
 "nbformat": 4,
 "nbformat_minor": 2
}
