{
 "cells": [
  {
   "cell_type": "code",
   "execution_count": 3,
   "metadata": {},
   "outputs": [],
   "source": [
    "import pandas as pd\n",
    "import numpy as np\n",
    "file_path=\"en.openfoodfacts.org.products.csv.gz\"\n",
    "n_rows = 50\n",
    "first_n_rows = pd.read_csv(file_path, sep=\"\\t\",nrows=n_rows, on_bad_lines='skip', encoding='utf-8',compression='gzip', low_memory=False)\n",
    "first_n_rows.to_csv('test_one.csv', index=False)"
   ]
  },
  {
   "cell_type": "markdown",
   "metadata": {},
   "source": [
    "NLP data loading"
   ]
  },
  {
   "cell_type": "code",
   "execution_count": 4,
   "metadata": {},
   "outputs": [],
   "source": [
    "nlp_required_columns = ['product_name','categories', 'main_category', 'ingredients_tags','additives_tags','nutriscore_grade']\n",
    "\n",
    "chunk_size=20000\n",
    "filtered_data_nlp=[]\n",
    "for chunk in pd.read_csv(file_path, sep='\\t',chunksize=chunk_size, usecols=nlp_required_columns, on_bad_lines='skip', encoding='utf-8', low_memory=False):\n",
    "    filtered_data_nlp.append(chunk)\n",
    "\n",
    "nlp_df = pd.concat(filtered_data_nlp, ignore_index=True)\n"
   ]
  },
  {
   "cell_type": "code",
   "execution_count": 5,
   "metadata": {},
   "outputs": [],
   "source": [
    "nlp_df.to_csv('nlp_dataset.csv.gz', index=False, compression='gzip')"
   ]
  },
  {
   "cell_type": "markdown",
   "metadata": {},
   "source": [
    "ML Data Loading"
   ]
  },
  {
   "cell_type": "code",
   "execution_count": null,
   "metadata": {},
   "outputs": [],
   "source": [
    "tabular_required_columns = [\n",
    "    'product_name','countries', 'categories', 'main_category','quantity','ingredients_tags', \n",
    "    'allergens', 'additives_tags', 'energy-kcal_100g', 'energy_100g', 'energy-kj_100g', \n",
    "    'fat_100g', 'saturated-fat_100g','trans-fat_100g', 'sugars_100g',  'added-sugars_100g', 'fiber_100g', 'proteins_100g', 'salt_100g', \n",
    "    'sodium_100g','chloride_100g','alcohol_100g', 'fruits-vegetables-nuts_100g', 'fruits-vegetables-nuts-estimate_100g', \n",
    "    'fruits-vegetables-nuts-estimate-from-ingredients_100g', 'nutrition-score-fr_100g', 'nutriscore_score','nutriscore_grade'\n",
    "]\n",
    "chunk_size = 200000  # Adjust based on memory availability\n",
    "filtered_chunks = []\n",
    "\n",
    "for chunk in pd.read_csv(file_path, usecols=tabular_required_columns, chunksize=chunk_size, sep=\"\\t\", on_bad_lines='skip', encoding='utf-8', low_memory=False):\n",
    "    filtered_chunks.append(chunk)\n",
    "\n",
    "# Concatenate all chunks into a single DataFrame\n",
    "filtered_df = pd.concat(filtered_chunks, ignore_index=True)"
   ]
  },
  {
   "cell_type": "code",
   "execution_count": null,
   "metadata": {},
   "outputs": [],
   "source": [
    "filtered_file = \"filtered_dataset.csv.gz\"\n",
    "# Save as compressed CSV\n",
    "filtered_df.to_csv(filtered_file, index=False, compression=\"gzip\")"
   ]
  },
  {
   "cell_type": "code",
   "execution_count": null,
   "metadata": {},
   "outputs": [],
   "source": []
  },
  {
   "cell_type": "markdown",
   "metadata": {},
   "source": [
    "P = points\n",
    "UnFavourable points:\n",
    "energy_100g:\n",
    "P:0 energy_100g <= 30\n",
    "P:1 energy_100g <= 90\n",
    "P:2 energy_100g <= 150\n",
    "P:3 energy_100g <= 210\n",
    "P:4 energy_100g <= 240\n",
    "P:5 energy_100g <= 270\n",
    "P:6 energy_100g <= 300\n",
    "P:7 energy_100g <= 330\n",
    "P:8 energy_100g <= 360\n",
    "P:9 energy_100g <= 390\n",
    "P:10 energy_100g > 390\n",
    "\n",
    "saturated_fat_100g:\n",
    "P:0 saturated_fat_100g <= 1\n",
    "P:1 saturated_fat_100g > 1\n",
    "P:2 saturated_fat_100g > 2\n",
    "P:3 saturated_fat_100g > 3\n",
    "P:4 saturated_fat_100g > 4\n",
    "P:5 saturated_fat_100g > 5\n",
    "P:6 saturated_fat_100g > 6\n",
    "P:7 saturated_fat_100g > 7\n",
    "P:8 saturated_fat_100g > 8\n",
    "P:9 saturated_fat_100g > 9\n",
    "P:10 saturated_fat_100g > 10\n",
    "\n",
    "sugars_100g:\n",
    "P:0 sugars_100g <= 0.5\n",
    "P:1 sugars_100g <= 2\n",
    "P:2 sugars_100g <= 3.5\n",
    "P:3 sugars_100g <= 5\n",
    "P:4 sugars_100g <= 6\n",
    "P:5 sugars_100g <= 7\n",
    "P:6 sugars_100g <= 8\n",
    "P:7 sugars_100g <= 9\n",
    "P:8 sugars_100g <= 10\n",
    "P:9 sugars_100g <= 11\n",
    "P:10 sugars_100g > 11\n",
    "\n",
    "salt_100g:\n",
    "P:0 salt_100g <= 0.2\n",
    "P:1 salt_100g > 0.2\n",
    "P:2 salt_100g > 0.4\n",
    "P:3 salt_100g > 0.6\n",
    "P:4 salt_100g > 0.8\n",
    "P:5 salt_100g > 1\n",
    "P:6 salt_100g > 1.2\n",
    "P:7 salt_100g > 1.4\n",
    "P:8 salt_100g > 1.6\n",
    "P:9 salt_100g > 1.8\n",
    "P:10 salt_100g > 2\n",
    "P:11 salt_100g > 2.2\n",
    "P:12 salt_100g > 2.4\n",
    "P:13 salt_100g > 2.6\n",
    "P:14 salt_100g > 2.8\n",
    "P:15 salt_100g > 3\n",
    "P:16 salt_100g > 3.2\n",
    "P:17 salt_100g > 3.4\n",
    "P:18 salt_100g > 3.6\n",
    "P:19 salt_100g > 3.8\n",
    "P:20 salt_100g > 4\n",
    "\n",
    "additives_tags:\n",
    "P:4 if additives_tags contain any one of this (e420, e421, e953, e956, e964, e965, e966, e967, e968). Caution: Those additives_tags are present in this way for each product row in my datasets (en:e150c,en:e212,en:e330,en:e950,en:e951). handle this pattern also to detect individual addtitives from the list. Here \"e420\" etc are present in between \"en:\" and comma \",\". handle that also.\n",
    "\n",
    "Favourable point:\n",
    "proteins_100g:\n",
    "P:0 proteins_100g <= 1.2\n",
    "P:1 proteins_100g > 1.2\n",
    "P:2 proteins_100g > 1.5\n",
    "P:3 proteins_100g > 1.8\n",
    "P:4 proteins_100g > 2.1\n",
    "P:5 proteins_100g > 2.4\n",
    "P:6 proteins_100g > 2.7\n",
    "P:7 proteins_100g > 3\n",
    "\n",
    "fiber_100g:\n",
    "P:0 fiber_100g <= 3.0\n",
    "P:1 fiber_100g > 3.0\n",
    "P:2 fiber_100g > 4.1\n",
    "P:3 fiber_100g > 5.2\n",
    "P:4 fiber_100g > 6.3\n",
    "P:5 fiber_100g > 7.4\n",
    "\n",
    "fruits_vegetables_nuts_100g(%):\n",
    "P:0 fruits_vegetables_nuts_100g <= 40\n",
    "P:2 fruits_vegetables_nuts_100g > 40\n",
    "P:4 fruits_vegetables_nuts_100g > 60\n",
    "P:6 fruits_vegetables_nuts_100g > 80\n",
    "\n",
    "Formula to calculate nutration score:\n",
    "nutriscore_score = UnFavourable points - Favourable points\n",
    "\n",
    "Condition for nutriscore_grade labeling:\n",
    "A: nutriscore_score <= 0\n",
    "B: nutriscore_score <= 2\n",
    "C: 3 <= nutriscore_score <= 6\n",
    "D: 7 <= nutriscore_score <= 9\n",
    "E: nutriscore_score >= 10"
   ]
  }
 ],
 "metadata": {
  "kernelspec": {
   "display_name": "Python 3",
   "language": "python",
   "name": "python3"
  },
  "language_info": {
   "codemirror_mode": {
    "name": "ipython",
    "version": 3
   },
   "file_extension": ".py",
   "mimetype": "text/x-python",
   "name": "python",
   "nbconvert_exporter": "python",
   "pygments_lexer": "ipython3",
   "version": "3.12.9"
  }
 },
 "nbformat": 4,
 "nbformat_minor": 2
}
