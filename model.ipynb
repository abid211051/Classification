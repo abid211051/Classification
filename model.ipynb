{
 "cells": [
  {
   "cell_type": "code",
   "execution_count": 2,
   "metadata": {},
   "outputs": [],
   "source": [
    "import pandas as pd\n",
    "import matplotlib.pyplot as plt\n",
    "import seaborn as sns\n",
    "import numpy as np\n",
    "from sklearn.preprocessing import OrdinalEncoder, StandardScaler\n",
    "from sklearn.model_selection import train_test_split, cross_val_predict\n",
    "from sklearn.ensemble import RandomForestClassifier, VotingClassifier\n",
    "from xgboost import XGBClassifier\n",
    "from lightgbm import LGBMClassifier\n",
    "from sklearn.metrics import classification_report, confusion_matrix, balanced_accuracy_score\n",
    "from sklearn.calibration import CalibratedClassifierCV\n",
    "from imblearn.over_sampling import SMOTE"
   ]
  },
  {
   "cell_type": "code",
   "execution_count": 3,
   "metadata": {},
   "outputs": [],
   "source": [
    "file_path = \"final_dataset.csv\""
   ]
  },
  {
   "cell_type": "code",
   "execution_count": 4,
   "metadata": {},
   "outputs": [
    {
     "name": "stdout",
     "output_type": "stream",
     "text": [
      "Index(['energy_100g', 'saturated_fat_100g', 'sugars_100g', 'fiber_100g',\n",
      "       'proteins_100g', 'salt_100g', 'fruits_veg_nuts_100g',\n",
      "       'nutriscore_grade'],\n",
      "      dtype='object')\n"
     ]
    }
   ],
   "source": [
    "chunk_size = 200000  # Adjust based on memory availability\n",
    "filtered_chunks = []\n",
    "\n",
    "for chunk in pd.read_csv(file_path, chunksize=chunk_size, on_bad_lines='skip', encoding='utf-8', low_memory=False):\n",
    "    filtered_chunks.append(chunk)\n",
    "\n",
    "# Concatenate all chunks into a single DataFrame\n",
    "filtered_df = pd.concat(filtered_chunks, ignore_index=True)\n",
    "del filtered_chunks\n",
    "print(filtered_df.columns)\n"
   ]
  },
  {
   "cell_type": "code",
   "execution_count": 5,
   "metadata": {},
   "outputs": [],
   "source": [
    "\n",
    "# Define features and target\n",
    "num_features = [\n",
    "    'energy_100g', 'saturated_fat_100g', 'sugars_100g',\n",
    "    'fiber_100g', 'proteins_100g', 'salt_100g',\n",
    "    'fruits_veg_nuts_100g',\n",
    "]\n",
    "target = 'nutriscore_grade'\n",
    "\n",
    "# Split data\n",
    "X = filtered_df[num_features]\n",
    "y = filtered_df[target]\n"
   ]
  },
  {
   "cell_type": "code",
   "execution_count": 6,
   "metadata": {},
   "outputs": [
    {
     "data": {
      "text/plain": [
       "array([3., 2., 4., ..., 2., 3., 1.])"
      ]
     },
     "execution_count": 6,
     "metadata": {},
     "output_type": "execute_result"
    }
   ],
   "source": [
    "# Encode target labels\n",
    "encoder = OrdinalEncoder()\n",
    "y_encoded = encoder.fit_transform(y.values.reshape(-1, 1)).ravel()\n",
    "y_encoded\n"
   ]
  },
  {
   "cell_type": "code",
   "execution_count": 7,
   "metadata": {},
   "outputs": [],
   "source": [
    "# Train-test split\n",
    "X_train, X_test, y_train, y_test = train_test_split(X, y_encoded, test_size=0.2, random_state=42, stratify=y_encoded)\n",
    "\n",
    "# Scale numerical features\n",
    "scaler = StandardScaler()\n",
    "X_train_scaled = scaler.fit_transform(X_train)\n",
    "X_test_scaled = scaler.transform(X_test)"
   ]
  },
  {
   "cell_type": "code",
   "execution_count": null,
   "metadata": {},
   "outputs": [
    {
     "name": "stdout",
     "output_type": "stream",
     "text": [
      "Original Training Size: (63889, 7)\n",
      "Resampled Training Size: (95360, 7)\n",
      "Test Set Size: (15973, 7)\n",
      "\n",
      "=== Individual Model Cross-Validation ===\n",
      "\n",
      "RANDOMFOREST Cross-Validation:\n",
      "Balanced Accuracy: 0.8729\n",
      "              precision    recall  f1-score   support\n",
      "\n",
      "           A     0.9200    0.8989    0.9093     19072\n",
      "           B     0.8378    0.8594    0.8485     19072\n",
      "           C     0.8067    0.7849    0.7956     19072\n",
      "           D     0.8927    0.9078    0.9002     19072\n",
      "           E     0.9067    0.9134    0.9100     19072\n",
      "\n",
      "    accuracy                         0.8729     95360\n",
      "   macro avg     0.8728    0.8729    0.8727     95360\n",
      "weighted avg     0.8728    0.8729    0.8727     95360\n",
      "\n",
      "\n",
      "XGBOOST Cross-Validation:\n",
      "Balanced Accuracy: 0.8505\n",
      "              precision    recall  f1-score   support\n",
      "\n",
      "           A     0.8782    0.8850    0.8816     19072\n",
      "           B     0.8210    0.8349    0.8279     19072\n",
      "           C     0.7803    0.7396    0.7594     19072\n",
      "           D     0.8685    0.8808    0.8746     19072\n",
      "           E     0.9004    0.9123    0.9063     19072\n",
      "\n",
      "    accuracy                         0.8505     95360\n",
      "   macro avg     0.8497    0.8505    0.8500     95360\n",
      "weighted avg     0.8497    0.8505    0.8500     95360\n",
      "\n",
      "\n",
      "LIGHTGBM Cross-Validation:\n",
      "Balanced Accuracy: 0.8425\n",
      "              precision    recall  f1-score   support\n",
      "\n",
      "           A     0.8786    0.8756    0.8771     19072\n",
      "           B     0.8091    0.8397    0.8241     19072\n",
      "           C     0.7705    0.7212    0.7450     19072\n",
      "           D     0.8580    0.8666    0.8623     19072\n",
      "           E     0.8918    0.9092    0.9004     19072\n",
      "\n",
      "    accuracy                         0.8425     95360\n",
      "   macro avg     0.8416    0.8425    0.8418     95360\n",
      "weighted avg     0.8416    0.8425    0.8418     95360\n",
      "\n",
      "\n",
      "=== Final Ensemble Training ===\n"
     ]
    },
    {
     "name": "stderr",
     "output_type": "stream",
     "text": [
      "c:\\Users\\apran\\AppData\\Local\\Programs\\Python\\Python312\\Lib\\site-packages\\sklearn\\utils\\deprecation.py:151: FutureWarning: 'force_all_finite' was renamed to 'ensure_all_finite' in 1.6 and will be removed in 1.8.\n",
      "  warnings.warn(\n",
      "c:\\Users\\apran\\AppData\\Local\\Programs\\Python\\Python312\\Lib\\site-packages\\joblib\\externals\\loky\\backend\\context.py:136: UserWarning: Could not find the number of physical cores for the following reason:\n",
      "[WinError 2] The system cannot find the file specified\n",
      "Returning the number of logical cores instead. You can silence this warning by setting LOKY_MAX_CPU_COUNT to the number of cores you want to use.\n",
      "  warnings.warn(\n",
      "  File \"c:\\Users\\apran\\AppData\\Local\\Programs\\Python\\Python312\\Lib\\site-packages\\joblib\\externals\\loky\\backend\\context.py\", line 257, in _count_physical_cores\n",
      "    cpu_info = subprocess.run(\n",
      "               ^^^^^^^^^^^^^^^\n",
      "  File \"c:\\Users\\apran\\AppData\\Local\\Programs\\Python\\Python312\\Lib\\subprocess.py\", line 550, in run\n",
      "    with Popen(*popenargs, **kwargs) as process:\n",
      "         ^^^^^^^^^^^^^^^^^^^^^^^^^^^\n",
      "  File \"c:\\Users\\apran\\AppData\\Local\\Programs\\Python\\Python312\\Lib\\subprocess.py\", line 1028, in __init__\n",
      "    self._execute_child(args, executable, preexec_fn, close_fds,\n",
      "  File \"c:\\Users\\apran\\AppData\\Local\\Programs\\Python\\Python312\\Lib\\subprocess.py\", line 1540, in _execute_child\n",
      "    hp, ht, pid, tid = _winapi.CreateProcess(executable, args,\n",
      "                       ^^^^^^^^^^^^^^^^^^^^^^^^^^^^^^^^^^^^^^^\n"
     ]
    },
    {
     "name": "stdout",
     "output_type": "stream",
     "text": [
      "\n",
      "=== Final Evaluation ===\n",
      "Balanced Accuracy: 0.8372129847445999\n",
      "\n",
      "Classification Report:\n",
      "              precision    recall  f1-score   support\n",
      "\n",
      "           A     0.6022    0.7866    0.6822       614\n",
      "           B     0.8387    0.8560    0.8473      3445\n",
      "           C     0.8379    0.7794    0.8076      4624\n",
      "           D     0.8225    0.8454    0.8338      2522\n",
      "           E     0.9198    0.9186    0.9192      4768\n",
      "\n",
      "    accuracy                         0.8482     15973\n",
      "   macro avg     0.8042    0.8372    0.8180     15973\n",
      "weighted avg     0.8511    0.8482    0.8488     15973\n",
      "\n"
     ]
    },
    {
     "data": {
      "image/png": "[encoded data removed]",
      "text/plain": [
       "<Figure size 800x600 with 2 Axes>"
      ]
     },
     "metadata": {},
     "output_type": "display_data"
    }
   ],
   "source": [
    "\n",
    "# Apply SMOTE Oversampling\n",
    "smote = SMOTE(random_state=42)\n",
    "X_train_resampled, y_train_resampled = smote.fit_resample(X_train_scaled, y_train)\n",
    "\n",
    "# Define models\n",
    "models = {\n",
    "    'RandomForest': RandomForestClassifier(n_estimators=100, random_state=42),\n",
    "    'XGBoost': XGBClassifier(n_estimators=100, random_state=42),\n",
    "    'LightGBM': LGBMClassifier(n_estimators=100, random_state=42)\n",
    "}\n",
    "\n",
    "# Calibrate models\n",
    "calibrated_models = [\n",
    "    ('rf', CalibratedClassifierCV(models['RandomForest'], method='isotonic', cv=5)),\n",
    "    ('xgb', CalibratedClassifierCV(models['XGBoost'], method='sigmoid', cv=5)),\n",
    "    ('lgbm', CalibratedClassifierCV(models['LightGBM'], method='isotonic', cv=5)),\n",
    "]\n",
    "\n",
    "# Create optimized voting classifier\n",
    "optimized_voting = VotingClassifier(\n",
    "    estimators=calibrated_models,\n",
    "    voting='soft',\n",
    "    n_jobs=-1\n",
    ")\n",
    "\n",
    "# Cross-validation for individual models\n",
    "print(\"\\n=== Individual Model Cross-Validation ===\")\n",
    "for name, model in calibrated_models:\n",
    "    print(f\"\\n{name.upper()} Cross-Validation:\")\n",
    "    y_pred = cross_val_predict(model, X_train_resampled, y_train_resampled, n_jobs=-1, method='predict_proba').argmax(axis=1)\n",
    "    print(f\"Balanced Accuracy: {balanced_accuracy_score(y_train_resampled, y_pred):.4f}\")\n",
    "    print(classification_report(y_train_resampled, y_pred, target_names=['A', 'B', 'C', 'D', 'E'], digits=4))\n",
    "\n",
    "# Train final ensemble\n",
    "print(\"\\n=== Final Ensemble Training ===\")\n",
    "optimized_voting.fit(X_train_resampled, y_train_resampled)\n",
    "\n",
    "# Generate predictions\n",
    "y_pred = optimized_voting.predict(X_test_scaled)\n",
    "\n",
    "# Enhanced evaluation metrics\n",
    "print(\"\\n=== Final Evaluation ===\")\n",
    "print(\"Balanced Accuracy:\", balanced_accuracy_score(y_test, y_pred))\n",
    "print(\"\\nClassification Report:\")\n",
    "print(classification_report(y_test, y_pred, target_names=['A', 'B', 'C', 'D', 'E'], digits=4))\n",
    "\n",
    "# Confusion Matrix\n",
    "plt.figure(figsize=(8, 6))\n",
    "sns.heatmap(confusion_matrix(y_test, y_pred), annot=True, fmt=\"d\", xticklabels=['A', 'B', 'C', 'D', 'E'], yticklabels=['A', 'B', 'C', 'D', 'E'])\n",
    "plt.xlabel(\"Predicted Labels\")\n",
    "plt.ylabel(\"True Labels\")\n",
    "plt.title(\"Confusion Matrix of Ensemble\")\n",
    "plt.show()"
   ]
  }
 ],
 "metadata": {
  "kernelspec": {
   "display_name": "Python 3",
   "language": "python",
   "name": "python3"
  },
  "language_info": {
   "codemirror_mode": {
    "name": "ipython",
    "version": 3
   },
   "file_extension": ".py",
   "mimetype": "text/x-python",
   "name": "python",
   "nbconvert_exporter": "python",
   "pygments_lexer": "ipython3",
   "version": "3.12.9"
  }
 },
 "nbformat": 4,
 "nbformat_minor": 2
}
