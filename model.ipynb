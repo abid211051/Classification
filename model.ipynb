{
 "cells": [
  {
   "cell_type": "markdown",
   "metadata": {},
   "source": [
    "Importing All Packages"
   ]
  },
  {
   "cell_type": "code",
   "execution_count": 3,
   "metadata": {},
   "outputs": [],
   "source": [
    "import pandas as pd\n",
    "import matplotlib.pyplot as plt\n",
    "import seaborn as sns\n",
    "import numpy as np\n",
    "from sklearn.preprocessing import OrdinalEncoder, StandardScaler\n",
    "from sklearn.model_selection import train_test_split, cross_val_predict\n",
    "from sklearn.ensemble import RandomForestClassifier, VotingClassifier\n",
    "from xgboost import XGBClassifier\n",
    "from lightgbm import LGBMClassifier\n",
    "from sklearn.metrics import classification_report, confusion_matrix, balanced_accuracy_score\n",
    "from sklearn.calibration import CalibratedClassifierCV\n",
    "from imblearn.over_sampling import SMOTE"
   ]
  },
  {
   "cell_type": "markdown",
   "metadata": {},
   "source": [
    "Loading Our Processed Dataset"
   ]
  },
  {
   "cell_type": "code",
   "execution_count": 4,
   "metadata": {},
   "outputs": [],
   "source": [
    "file_path = \"final_dataset.csv\""
   ]
  },
  {
   "cell_type": "code",
   "execution_count": 5,
   "metadata": {},
   "outputs": [
    {
     "data": {
      "text/plain": [
       "(87588, 8)"
      ]
     },
     "execution_count": 5,
     "metadata": {},
     "output_type": "execute_result"
    }
   ],
   "source": [
    "filtered_df =  pd.read_csv(file_path, on_bad_lines='skip', encoding='utf-8', low_memory=False)\n",
    "filtered_df.shape"
   ]
  },
  {
   "cell_type": "markdown",
   "metadata": {},
   "source": [
    "Seperating features and label"
   ]
  },
  {
   "cell_type": "code",
   "execution_count": 6,
   "metadata": {},
   "outputs": [],
   "source": [
    "\n",
    "# Define features and target\n",
    "num_features = [\n",
    "    'energy_100g', 'saturated_fat_100g', 'sugars_100g',\n",
    "    'fiber_100g', 'proteins_100g', 'salt_100g',\n",
    "    'fruits_veg_nuts_100g',\n",
    "]\n",
    "target = 'nutriscore_grade'\n",
    "\n",
    "# Split data\n",
    "X = filtered_df[num_features]\n",
    "y = filtered_df[target]"
   ]
  },
  {
   "cell_type": "markdown",
   "metadata": {},
   "source": [
    "Encoding each labels"
   ]
  },
  {
   "cell_type": "code",
   "execution_count": 7,
   "metadata": {},
   "outputs": [
    {
     "data": {
      "text/plain": [
       "{0.0, 1.0, 2.0, 3.0}"
      ]
     },
     "execution_count": 7,
     "metadata": {},
     "output_type": "execute_result"
    }
   ],
   "source": [
    "# Encode target labels\n",
    "encoder = OrdinalEncoder()\n",
    "y_encoded = encoder.fit_transform(y.values.reshape(-1, 1)).ravel()\n",
    "set(y_encoded)"
   ]
  },
  {
   "cell_type": "markdown",
   "metadata": {},
   "source": [
    "Spliting to Train & Test data by 80 20 ratio & applying Normalization"
   ]
  },
  {
   "cell_type": "code",
   "execution_count": 8,
   "metadata": {},
   "outputs": [],
   "source": [
    "# Train-test split\n",
    "X_train, X_test, y_train, y_test = train_test_split(X, y_encoded, test_size=0.2, random_state=42, stratify=y_encoded)\n",
    "\n",
    "# Scale numerical features\n",
    "scaler = StandardScaler()\n",
    "X_train_scaled = scaler.fit_transform(X_train)\n",
    "X_test_scaled = scaler.transform(X_test)"
   ]
  },
  {
   "cell_type": "markdown",
   "metadata": {},
   "source": [
    "Importing best 3 models which was performed well individually."
   ]
  },
  {
   "cell_type": "code",
   "execution_count": 9,
   "metadata": {},
   "outputs": [],
   "source": [
    "models = {\n",
    "    'RandomForest': RandomForestClassifier(n_estimators=100, random_state=42),\n",
    "    'XGBoost': XGBClassifier(n_estimators=100, random_state=42),\n",
    "    'LightGBM': LGBMClassifier(n_estimators=100, random_state=42)\n",
    "}\n",
    "\n",
    "# Calibrate models\n",
    "calibrated_models = {\n",
    "    'rf': CalibratedClassifierCV(models['RandomForest'], method='isotonic', cv=5),\n",
    "    'xgb': CalibratedClassifierCV(models['XGBoost'], method='sigmoid', cv=5),\n",
    "    'lgbm': CalibratedClassifierCV(models['LightGBM'], method='isotonic', cv=5)\n",
    "}"
   ]
  },
  {
   "cell_type": "markdown",
   "metadata": {},
   "source": [
    "Training Loop"
   ]
  },
  {
   "cell_type": "code",
   "execution_count": 10,
   "metadata": {},
   "outputs": [
    {
     "name": "stdout",
     "output_type": "stream",
     "text": [
      "\n",
      "=== Individual Model Cross-Validation ===\n",
      "\n",
      "RF Cross-Validation:\n",
      "Balanced Accuracy: 0.9822\n",
      "              precision    recall  f1-score   support\n",
      "\n",
      "           B     0.9930    0.9933    0.9932     22485\n",
      "           C     0.9767    0.9809    0.9788     16253\n",
      "           D     0.9687    0.9626    0.9656      9670\n",
      "           E     0.9929    0.9922    0.9926     21662\n",
      "\n",
      "    accuracy                         0.9858     70070\n",
      "   macro avg     0.9828    0.9822    0.9825     70070\n",
      "weighted avg     0.9858    0.9858    0.9858     70070\n",
      "\n",
      "\n",
      "XGB Cross-Validation:\n",
      "Balanced Accuracy: 0.9853\n",
      "              precision    recall  f1-score   support\n",
      "\n",
      "           B     0.9955    0.9947    0.9951     22485\n",
      "           C     0.9814    0.9855    0.9834     16253\n",
      "           D     0.9719    0.9677    0.9698      9670\n",
      "           E     0.9936    0.9931    0.9934     21662\n",
      "\n",
      "    accuracy                         0.9884     70070\n",
      "   macro avg     0.9856    0.9853    0.9854     70070\n",
      "weighted avg     0.9884    0.9884    0.9884     70070\n",
      "\n",
      "\n",
      "LGBM Cross-Validation:\n",
      "Balanced Accuracy: 0.9882\n",
      "              precision    recall  f1-score   support\n",
      "\n",
      "           B     0.9967    0.9961    0.9964     22485\n",
      "           C     0.9851    0.9880    0.9865     16253\n",
      "           D     0.9778    0.9735    0.9756      9670\n",
      "           E     0.9949    0.9952    0.9950     21662\n",
      "\n",
      "    accuracy                         0.9908     70070\n",
      "   macro avg     0.9886    0.9882    0.9884     70070\n",
      "weighted avg     0.9908    0.9908    0.9908     70070\n",
      "\n"
     ]
    }
   ],
   "source": [
    "# Cross-validation for individual models\n",
    "print(\"\\n=== Individual Model Cross-Validation ===\")\n",
    "for name, model in calibrated_models.items():\n",
    "    print(f\"\\n{name.upper()} Cross-Validation:\")\n",
    "    y_pred = cross_val_predict(model, X_train_scaled, y_train, n_jobs=-1, method='predict_proba').argmax(axis=1)\n",
    "    print(f\"Balanced Accuracy: {balanced_accuracy_score(y_train, y_pred):.4f}\")\n",
    "    print(classification_report(y_train, y_pred, target_names=['B', 'C', 'D', 'E'], digits=4))"
   ]
  },
  {
   "cell_type": "markdown",
   "metadata": {},
   "source": [
    "Combining all models with Ensemble Soft Voting"
   ]
  },
  {
   "cell_type": "code",
   "execution_count": null,
   "metadata": {},
   "outputs": [],
   "source": [
    "# Train ensemble model\n",
    "ensemble = VotingClassifier(\n",
    "    estimators=list(calibrated_models.items()),\n",
    "    voting='soft',\n",
    "    n_jobs=-1\n",
    ")\n",
    "\n",
    "ensemble.fit(X_train_scaled, y_train)\n",
    "# Generate predictions\n",
    "y_pred = ensemble.predict(X_test_scaled)\n",
    "\n",
    "# Evaluation metrics\n",
    "print(\"\\n=== Final Ensemble Evaluation ===\")\n",
    "print(\"Balanced Accuracy:\", balanced_accuracy_score(y_test, y_pred))\n",
    "print(classification_report(y_test, y_pred, target_names=['B', 'C', 'D', 'E'], digits=4))"
   ]
  },
  {
   "cell_type": "markdown",
   "metadata": {},
   "source": [
    "Confusing Matrix"
   ]
  },
  {
   "cell_type": "code",
   "execution_count": null,
   "metadata": {},
   "outputs": [],
   "source": [
    "# Confusion Matrix\n",
    "plt.figure(figsize=(8, 6))\n",
    "sns.heatmap(confusion_matrix(y_test, y_pred), annot=True, fmt=\"d\", \n",
    "            xticklabels=['B', 'C', 'D', 'E'], yticklabels=['B', 'C', 'D', 'E'])\n",
    "plt.xlabel(\"Predicted Labels\")\n",
    "plt.ylabel(\"True Labels\")\n",
    "plt.title(\"Confusion Matrix of Ensemble\")\n",
    "plt.show()"
   ]
  },
  {
   "cell_type": "markdown",
   "metadata": {},
   "source": [
    "ROC-AUC"
   ]
  },
  {
   "cell_type": "code",
   "execution_count": null,
   "metadata": {},
   "outputs": [],
   "source": [
    "from sklearn.metrics import roc_curve, auc\n",
    "import matplotlib.pyplot as plt\n",
    "from sklearn.preprocessing import label_binarize\n",
    "import numpy as np\n",
    "\n",
    "# Get predicted probabilities\n",
    "y_score = ensemble.predict_proba(X_test_scaled)\n",
    "\n",
    "# Binarize labels (since it's multi-class)\n",
    "y_test_bin = label_binarize(y_test, classes=np.unique(y_test))\n",
    "\n",
    "# Plot ROC curves\n",
    "plt.figure(figsize=(8, 6))\n",
    "for i in range(y_test_bin.shape[1]):\n",
    "    fpr, tpr, _ = roc_curve(y_test_bin[:, i], y_score[:, i])\n",
    "    plt.plot(fpr, tpr, label=f'Class {i} (AUC={auc(fpr, tpr):.2f})')\n",
    "\n",
    "# Plot random guessing line\n",
    "plt.plot([0, 1], [0, 1], 'k--')\n",
    "\n",
    "plt.xlabel('False Positive Rate')\n",
    "plt.ylabel('True Positive Rate')\n",
    "plt.title('Multi-Class ROC Curve')\n",
    "plt.legend()\n",
    "plt.show()\n"
   ]
  }
 ],
 "metadata": {
  "kernelspec": {
   "display_name": "Python 3",
   "language": "python",
   "name": "python3"
  },
  "language_info": {
   "codemirror_mode": {
    "name": "ipython",
    "version": 3
   },
   "file_extension": ".py",
   "mimetype": "text/x-python",
   "name": "python",
   "nbconvert_exporter": "python",
   "pygments_lexer": "ipython3",
   "version": "3.12.9"
  }
 },
 "nbformat": 4,
 "nbformat_minor": 2
}
